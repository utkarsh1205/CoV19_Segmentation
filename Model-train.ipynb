{
 "cells": [
  {
   "cell_type": "code",
   "execution_count": 1,
   "metadata": {},
   "outputs": [
    {
     "name": "stderr",
     "output_type": "stream",
     "text": [
      "Using TensorFlow backend.\n"
     ]
    }
   ],
   "source": [
    "from model import *\n",
    "import matplotlib.pyplot as plt\n",
    "import os\n",
    "from os.path import join\n",
    "import numpy as np\n",
    "\n",
    "from keras.applications.resnet50 import preprocess_input\n",
    "from keras.preprocessing.image import load_img, img_to_array\n",
    "from keras.utils import to_categorical"
   ]
  },
  {
   "cell_type": "code",
   "execution_count": 2,
   "metadata": {},
   "outputs": [],
   "source": [
    "#Creating list of image paths\n",
    "image_dir = \"dataset/Train/Image\"\n",
    "imgs = os.listdir(image_dir)\n",
    "img_paths = [join(image_dir, filename) for filename in imgs]\n",
    "\n",
    "#Creating list of mask paths\n",
    "mask_dir = \"dataset/Train/Label\"\n",
    "masks = os.listdir(mask_dir)\n",
    "mask_paths = [join(mask_dir, filename) for filename in masks]"
   ]
  },
  {
   "cell_type": "code",
   "execution_count": 3,
   "metadata": {},
   "outputs": [],
   "source": [
    "#For Target Size\n",
    "image_size = 256\n",
    "\n",
    "#Function for creating input array\n",
    "def read_and_prep_images(img_paths, img_height=image_size, img_width=image_size):\n",
    "    imgs = [load_img(img_path,\n",
    "                     color_mode='grayscale',\n",
    "                     target_size=(img_height, img_width)) for img_path in img_paths]\n",
    "    \n",
    "    img_array = np.array([img_to_array(img) for img in imgs])\n",
    "    img_array /=255\n",
    "    return(img_array)\n",
    "\n",
    "def read_and_prep_masks(img_paths, img_height=image_size, img_width=image_size):\n",
    "    imgs = [load_img(img_path,\n",
    "                     color_mode='grayscale',\n",
    "                     target_size=(img_height, img_width)) for img_path in img_paths]\n",
    "    \n",
    "    img_array = np.array([img_to_array(img) for img in imgs])\n",
    "    return(img_array)"
   ]
  },
  {
   "cell_type": "code",
   "execution_count": 4,
   "metadata": {},
   "outputs": [],
   "source": [
    "#Create input for model\n",
    "train_imgs = read_and_prep_images(img_paths)\n",
    "train_masks = read_and_prep_masks(mask_paths)"
   ]
  },
  {
   "cell_type": "code",
   "execution_count": 5,
   "metadata": {},
   "outputs": [
    {
     "data": {
      "text/plain": [
       "(829, 256, 256, 1)"
      ]
     },
     "execution_count": 5,
     "metadata": {},
     "output_type": "execute_result"
    }
   ],
   "source": [
    "train_imgs.shape"
   ]
  },
  {
   "cell_type": "code",
   "execution_count": 6,
   "metadata": {},
   "outputs": [
    {
     "data": {
      "text/plain": [
       "(829, 256, 256, 1)"
      ]
     },
     "execution_count": 6,
     "metadata": {},
     "output_type": "execute_result"
    }
   ],
   "source": [
    "train_masks.shape"
   ]
  },
  {
   "cell_type": "code",
   "execution_count": 7,
   "metadata": {},
   "outputs": [],
   "source": [
    "#One-Hot encode masks\n",
    "train_masks = train_masks[...,0]\n",
    "train_masks=to_categorical(train_masks, num_classes=4)"
   ]
  },
  {
   "cell_type": "code",
   "execution_count": 8,
   "metadata": {},
   "outputs": [
    {
     "data": {
      "text/plain": [
       "(829, 256, 256, 4)"
      ]
     },
     "execution_count": 8,
     "metadata": {},
     "output_type": "execute_result"
    }
   ],
   "source": [
    "train_masks.shape\n"
   ]
  },
  {
   "cell_type": "code",
   "execution_count": 9,
   "metadata": {},
   "outputs": [
    {
     "data": {
      "text/plain": [
       "<matplotlib.image.AxesImage at 0x173dc983208>"
      ]
     },
     "execution_count": 9,
     "metadata": {},
     "output_type": "execute_result"
    },
    {
     "data": {
      "image/png": "[encoded data removed]",
      "text/plain": [
       "<Figure size 432x288 with 3 Axes>"
      ]
     },
     "metadata": {
      "needs_background": "light"
     },
     "output_type": "display_data"
    }
   ],
   "source": [
    "#Drawing example Image and mask\n",
    "plt.subplots_adjust(wspace=0.5)\n",
    "plt.subplot(1,3,1)\n",
    "plt.imshow(train_imgs[30,:,:,0])\n",
    "plt.subplot(1,3,2)\n",
    "plt.imshow(train_masks[30,:,:,1])\n",
    "plt.subplot(1,3,3)\n",
    "plt.imshow(train_masks[30,:,:,2])"
   ]
  },
  {
   "cell_type": "code",
   "execution_count": 10,
   "metadata": {},
   "outputs": [],
   "source": [
    "#Initializing model\n",
    "model = unet()"
   ]
  },
  {
   "cell_type": "code",
   "execution_count": 11,
   "metadata": {},
   "outputs": [
    {
     "name": "stdout",
     "output_type": "stream",
     "text": [
      "Train on 580 samples, validate on 249 samples\n",
      "Epoch 1/2\n",
      "580/580 [==============================] - 123s 213ms/step - loss: 0.1058 - dice_coeff: 4.6040e-05 - val_loss: 0.2467 - val_dice_coeff: 0.0000e+00\n",
      "Epoch 2/2\n",
      "580/580 [==============================] - 114s 197ms/step - loss: 0.0845 - dice_coeff: 0.0000e+00 - val_loss: 0.2467 - val_dice_coeff: 0.0000e+00\n"
     ]
    },
    {
     "data": {
      "text/plain": [
       "<keras.callbacks.callbacks.History at 0x174bde19f88>"
      ]
     },
     "execution_count": 11,
     "metadata": {},
     "output_type": "execute_result"
    }
   ],
   "source": [
    "model.fit(train_imgs,\n",
    "          train_masks,\n",
    "          batch_size=4,\n",
    "          epochs = 2,\n",
    "          validation_split=0.3,\n",
    "          shuffle=True,\n",
    "          )"
   ]
  },
  {
   "cell_type": "code",
   "execution_count": 12,
   "metadata": {},
   "outputs": [
    {
     "name": "stdout",
     "output_type": "stream",
     "text": [
      "20/20 [==============================] - 2s 81ms/step\n"
     ]
    }
   ],
   "source": [
    "#Test data\n",
    "from data import testGenerator\n",
    "testGene = testGenerator(\"dataset/Test/Image\", num_image = 20)\n",
    "results = model.predict_generator(testGene,20,verbose=1)"
   ]
  },
  {
   "cell_type": "code",
   "execution_count": 13,
   "metadata": {},
   "outputs": [
    {
     "data": {
      "text/plain": [
       "(20, 256, 256, 4)"
      ]
     },
     "execution_count": 13,
     "metadata": {},
     "output_type": "execute_result"
    }
   ],
   "source": [
    "results.shape"
   ]
  },
  {
   "cell_type": "code",
   "execution_count": 15,
   "metadata": {},
   "outputs": [
    {
     "data": {
      "text/plain": [
       "<matplotlib.image.AxesImage at 0x174bf0edf08>"
      ]
     },
     "execution_count": 15,
     "metadata": {},
     "output_type": "execute_result"
    },
    {
     "data": {
      "image/png": "[encoded data removed]",
      "text/plain": [
       "<Figure size 432x288 with 1 Axes>"
      ]
     },
     "metadata": {
      "needs_background": "light"
     },
     "output_type": "display_data"
    }
   ],
   "source": [
    "#Taking example result\n",
    "result1 = results[5]\n",
    "plt.imshow(result1[:,:,0])#"
   ]
  },
  {
   "cell_type": "code",
   "execution_count": 16,
   "metadata": {},
   "outputs": [],
   "source": [
    "#bad result"
   ]
  },
  {
   "cell_type": "code",
   "execution_count": null,
   "metadata": {},
   "outputs": [],
   "source": []
  }
 ],
 "metadata": {
  "kernelspec": {
   "display_name": "Python 3.7 (tensorflow)",
   "language": "python",
   "name": "tensorflow"
  },
  "language_info": {
   "codemirror_mode": {
    "name": "ipython",
    "version": 3
   },
   "file_extension": ".py",
   "mimetype": "text/x-python",
   "name": "python",
   "nbconvert_exporter": "python",
   "pygments_lexer": "ipython3",
   "version": "3.7.7"
  }
 },
 "nbformat": 4,
 "nbformat_minor": 4
}
